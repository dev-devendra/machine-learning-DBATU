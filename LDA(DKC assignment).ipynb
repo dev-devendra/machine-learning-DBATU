{
 "cells": [
  {
   "cell_type": "code",
   "execution_count": 1,
   "metadata": {
    "executionInfo": {
     "elapsed": 1152,
     "status": "ok",
     "timestamp": 1605877057508,
     "user": {
      "displayName": "Akash Mishra",
      "photoUrl": "",
      "userId": "03863528693170221226"
     },
     "user_tz": -330
    },
    "id": "9EdEqRQbt493"
   },
   "outputs": [],
   "source": [
    "import pandas as pd\n",
    "import numpy as np\n",
    "from sklearn.preprocessing import MinMaxScaler\n",
    "from sklearn.preprocessing import StandardScaler"
   ]
  },
  {
   "cell_type": "code",
   "execution_count": 2,
   "metadata": {
    "colab": {
     "base_uri": "https://localhost:8080/",
     "height": 206
    },
    "executionInfo": {
     "elapsed": 1144,
     "status": "ok",
     "timestamp": 1605877057509,
     "user": {
      "displayName": "Akash Mishra",
      "photoUrl": "",
      "userId": "03863528693170221226"
     },
     "user_tz": -330
    },
    "id": "9hAe8Tyft7uq",
    "outputId": "0f72048e-ffa1-44d5-ff34-eff83e2c81a7"
   },
   "outputs": [
    {
     "data": {
      "text/html": [
       "<div>\n",
       "<style scoped>\n",
       "    .dataframe tbody tr th:only-of-type {\n",
       "        vertical-align: middle;\n",
       "    }\n",
       "\n",
       "    .dataframe tbody tr th {\n",
       "        vertical-align: top;\n",
       "    }\n",
       "\n",
       "    .dataframe thead th {\n",
       "        text-align: right;\n",
       "    }\n",
       "</style>\n",
       "<table border=\"1\" class=\"dataframe\">\n",
       "  <thead>\n",
       "    <tr style=\"text-align: right;\">\n",
       "      <th></th>\n",
       "      <th>Obs</th>\n",
       "      <th>ID</th>\n",
       "      <th>AGE</th>\n",
       "      <th>agrp</th>\n",
       "      <th>CHD</th>\n",
       "    </tr>\n",
       "  </thead>\n",
       "  <tbody>\n",
       "    <tr>\n",
       "      <th>0</th>\n",
       "      <td>1</td>\n",
       "      <td>1</td>\n",
       "      <td>20</td>\n",
       "      <td>1</td>\n",
       "      <td>0</td>\n",
       "    </tr>\n",
       "    <tr>\n",
       "      <th>1</th>\n",
       "      <td>2</td>\n",
       "      <td>2</td>\n",
       "      <td>23</td>\n",
       "      <td>1</td>\n",
       "      <td>0</td>\n",
       "    </tr>\n",
       "    <tr>\n",
       "      <th>2</th>\n",
       "      <td>3</td>\n",
       "      <td>3</td>\n",
       "      <td>24</td>\n",
       "      <td>1</td>\n",
       "      <td>0</td>\n",
       "    </tr>\n",
       "    <tr>\n",
       "      <th>3</th>\n",
       "      <td>4</td>\n",
       "      <td>4</td>\n",
       "      <td>25</td>\n",
       "      <td>1</td>\n",
       "      <td>0</td>\n",
       "    </tr>\n",
       "    <tr>\n",
       "      <th>4</th>\n",
       "      <td>5</td>\n",
       "      <td>5</td>\n",
       "      <td>25</td>\n",
       "      <td>1</td>\n",
       "      <td>1</td>\n",
       "    </tr>\n",
       "  </tbody>\n",
       "</table>\n",
       "</div>"
      ],
      "text/plain": [
       "   Obs  ID  AGE  agrp  CHD\n",
       "0    1   1   20     1    0\n",
       "1    2   2   23     1    0\n",
       "2    3   3   24     1    0\n",
       "3    4   4   25     1    0\n",
       "4    5   5   25     1    1"
      ]
     },
     "execution_count": 2,
     "metadata": {
      "tags": []
     },
     "output_type": "execute_result"
    }
   ],
   "source": [
    "dataset = pd.read_csv(\"/content/chd-201015-202131.csv\")\n",
    "dataset.head()"
   ]
  },
  {
   "cell_type": "code",
   "execution_count": 3,
   "metadata": {
    "colab": {
     "base_uri": "https://localhost:8080/",
     "height": 206
    },
    "executionInfo": {
     "elapsed": 1138,
     "status": "ok",
     "timestamp": 1605877057510,
     "user": {
      "displayName": "Akash Mishra",
      "photoUrl": "",
      "userId": "03863528693170221226"
     },
     "user_tz": -330
    },
    "id": "OciRwYMEt9l7",
    "outputId": "7c3292b6-b438-4b98-d126-3461c9b4b287"
   },
   "outputs": [
    {
     "data": {
      "text/html": [
       "<div>\n",
       "<style scoped>\n",
       "    .dataframe tbody tr th:only-of-type {\n",
       "        vertical-align: middle;\n",
       "    }\n",
       "\n",
       "    .dataframe tbody tr th {\n",
       "        vertical-align: top;\n",
       "    }\n",
       "\n",
       "    .dataframe thead th {\n",
       "        text-align: right;\n",
       "    }\n",
       "</style>\n",
       "<table border=\"1\" class=\"dataframe\">\n",
       "  <thead>\n",
       "    <tr style=\"text-align: right;\">\n",
       "      <th></th>\n",
       "      <th>AGE</th>\n",
       "      <th>CHD</th>\n",
       "    </tr>\n",
       "  </thead>\n",
       "  <tbody>\n",
       "    <tr>\n",
       "      <th>0</th>\n",
       "      <td>20</td>\n",
       "      <td>0</td>\n",
       "    </tr>\n",
       "    <tr>\n",
       "      <th>1</th>\n",
       "      <td>23</td>\n",
       "      <td>0</td>\n",
       "    </tr>\n",
       "    <tr>\n",
       "      <th>2</th>\n",
       "      <td>24</td>\n",
       "      <td>0</td>\n",
       "    </tr>\n",
       "    <tr>\n",
       "      <th>3</th>\n",
       "      <td>25</td>\n",
       "      <td>0</td>\n",
       "    </tr>\n",
       "    <tr>\n",
       "      <th>4</th>\n",
       "      <td>25</td>\n",
       "      <td>1</td>\n",
       "    </tr>\n",
       "  </tbody>\n",
       "</table>\n",
       "</div>"
      ],
      "text/plain": [
       "   AGE  CHD\n",
       "0   20    0\n",
       "1   23    0\n",
       "2   24    0\n",
       "3   25    0\n",
       "4   25    1"
      ]
     },
     "execution_count": 3,
     "metadata": {
      "tags": []
     },
     "output_type": "execute_result"
    }
   ],
   "source": [
    "dataset1 = dataset.loc[:, [\"AGE\", \"CHD\"]]\n",
    "dataset1.head()"
   ]
  },
  {
   "cell_type": "code",
   "execution_count": 4,
   "metadata": {
    "executionInfo": {
     "elapsed": 1134,
     "status": "ok",
     "timestamp": 1605877057511,
     "user": {
      "displayName": "Akash Mishra",
      "photoUrl": "",
      "userId": "03863528693170221226"
     },
     "user_tz": -330
    },
    "id": "RZYjLqbYuAIc"
   },
   "outputs": [],
   "source": [
    "X = dataset1.iloc[:, :-1].values\n",
    "Y = dataset.iloc[:, -1].values"
   ]
  },
  {
   "cell_type": "code",
   "execution_count": 5,
   "metadata": {
    "executionInfo": {
     "elapsed": 1648,
     "status": "ok",
     "timestamp": 1605877058029,
     "user": {
      "displayName": "Akash Mishra",
      "photoUrl": "",
      "userId": "03863528693170221226"
     },
     "user_tz": -330
    },
    "id": "YHh3RdPquBYW"
   },
   "outputs": [],
   "source": [
    "from sklearn.discriminant_analysis import LinearDiscriminantAnalysis\n",
    "lda = LinearDiscriminantAnalysis()\n",
    "lda.fit(X, Y)\n",
    "y_pred = lda.predict(X)"
   ]
  },
  {
   "cell_type": "code",
   "execution_count": 6,
   "metadata": {
    "colab": {
     "base_uri": "https://localhost:8080/"
    },
    "executionInfo": {
     "elapsed": 1646,
     "status": "ok",
     "timestamp": 1605877058029,
     "user": {
      "displayName": "Akash Mishra",
      "photoUrl": "",
      "userId": "03863528693170221226"
     },
     "user_tz": -330
    },
    "id": "hDhcc59JuB9n",
    "outputId": "abf66209-ef20-4372-fc1f-1d1dea5aff2f"
   },
   "outputs": [
    {
     "data": {
      "text/plain": [
       "array([-3.27093953, -2.91548011, -2.79699364, -2.67850717, -2.67850717,\n",
       "       -2.56002069, -2.56002069, -2.32304775, -2.32304775, -2.20456127,\n",
       "       -2.0860748 , -2.0860748 , -2.0860748 , -2.0860748 , -2.0860748 ,\n",
       "       -2.0860748 , -1.84910185, -1.84910185, -1.73061538, -1.73061538,\n",
       "       -1.61212891, -1.61212891, -1.61212891, -1.61212891, -1.61212891,\n",
       "       -1.49364243, -1.49364243, -1.37515596, -1.37515596, -1.37515596,\n",
       "       -1.25666949, -1.25666949, -1.25666949, -1.13818301, -1.13818301,\n",
       "       -1.01969654, -1.01969654, -0.90121007, -0.90121007, -0.78272359,\n",
       "       -0.78272359, -0.66423712, -0.66423712, -0.66423712, -0.66423712,\n",
       "       -0.54575065, -0.54575065, -0.54575065, -0.42726417, -0.42726417,\n",
       "       -0.42726417, -0.42726417, -0.3087777 , -0.3087777 , -0.19029123,\n",
       "       -0.19029123, -0.07180475, -0.07180475, -0.07180475,  0.04668172,\n",
       "        0.04668172,  0.04668172,  0.16516819,  0.16516819,  0.16516819,\n",
       "        0.28365467,  0.28365467,  0.40214114,  0.52062762,  0.52062762,\n",
       "        0.63911409,  0.63911409,  0.75760056,  0.87608704,  0.87608704,\n",
       "        0.87608704,  0.99457351,  0.99457351,  0.99457351,  1.11305998,\n",
       "        1.11305998,  1.11305998,  1.11305998,  1.11305998,  1.11305998,\n",
       "        1.23154646,  1.23154646,  1.23154646,  1.35003293,  1.35003293,\n",
       "        1.4685194 ,  1.4685194 ,  1.58700588,  1.70549235,  1.70549235,\n",
       "        1.82397882,  1.9424653 ,  1.9424653 ,  2.06095177,  2.53489766])"
      ]
     },
     "execution_count": 6,
     "metadata": {
      "tags": []
     },
     "output_type": "execute_result"
    }
   ],
   "source": [
    "lda.decision_function(X)"
   ]
  },
  {
   "cell_type": "code",
   "execution_count": 7,
   "metadata": {
    "colab": {
     "base_uri": "https://localhost:8080/"
    },
    "executionInfo": {
     "elapsed": 1645,
     "status": "ok",
     "timestamp": 1605877058031,
     "user": {
      "displayName": "Akash Mishra",
      "photoUrl": "",
      "userId": "03863528693170221226"
     },
     "user_tz": -330
    },
    "id": "7fKgVoGHuE9-",
    "outputId": "48b6fa6f-f8ce-40b1-a6d3-bc63da38be8e"
   },
   "outputs": [
    {
     "name": "stdout",
     "output_type": "stream",
     "text": [
      "[[45 12]\n",
      " [14 29]]\n"
     ]
    }
   ],
   "source": [
    "from sklearn.metrics import confusion_matrix\n",
    "confusion_metrix = confusion_matrix(Y, y_pred)\n",
    "print(confusion_metrix)"
   ]
  },
  {
   "cell_type": "code",
   "execution_count": 8,
   "metadata": {
    "colab": {
     "base_uri": "https://localhost:8080/"
    },
    "executionInfo": {
     "elapsed": 1642,
     "status": "ok",
     "timestamp": 1605877058031,
     "user": {
      "displayName": "Akash Mishra",
      "photoUrl": "",
      "userId": "03863528693170221226"
     },
     "user_tz": -330
    },
    "id": "bLz4EJajuG4e",
    "outputId": "88249b30-7157-4178-fa43-1f446fa49133"
   },
   "outputs": [
    {
     "name": "stdout",
     "output_type": "stream",
     "text": [
      "              precision    recall  f1-score   support\n",
      "\n",
      "           0       0.76      0.79      0.78        57\n",
      "           1       0.71      0.67      0.69        43\n",
      "\n",
      "    accuracy                           0.74       100\n",
      "   macro avg       0.74      0.73      0.73       100\n",
      "weighted avg       0.74      0.74      0.74       100\n",
      "\n"
     ]
    }
   ],
   "source": [
    "from sklearn.metrics import classification_report\n",
    "print(classification_report(Y, y_pred))"
   ]
  }
 ],
 "metadata": {
  "colab": {
   "authorship_tag": "ABX9TyN11nAxC1go8hYIntBSeAr2",
   "collapsed_sections": [],
   "name": "LDA(assign).ipynb",
   "provenance": []
  },
  "kernelspec": {
   "display_name": "Python 3",
   "language": "python",
   "name": "python3"
  },
  "language_info": {
   "codemirror_mode": {
    "name": "ipython",
    "version": 3
   },
   "file_extension": ".py",
   "mimetype": "text/x-python",
   "name": "python",
   "nbconvert_exporter": "python",
   "pygments_lexer": "ipython3",
   "version": "3.8.3"
  }
 },
 "nbformat": 4,
 "nbformat_minor": 1
}
